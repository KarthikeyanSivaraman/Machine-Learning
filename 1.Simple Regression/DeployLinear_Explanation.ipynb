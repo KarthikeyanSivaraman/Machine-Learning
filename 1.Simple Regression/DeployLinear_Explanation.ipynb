{
 "cells": [
  {
   "cell_type": "code",
   "execution_count": 1,
   "id": "4df103d5",
   "metadata": {},
   "outputs": [],
   "source": [
    "# importing pickle libraby\n",
    "import pickle"
   ]
  },
  {
   "cell_type": "code",
   "execution_count": 2,
   "id": "14d9eab7",
   "metadata": {},
   "outputs": [],
   "source": [
    "# open the saved model and load\n",
    "load_model=pickle.load(open(\"finalModel.sav\",'rb'))"
   ]
  },
  {
   "cell_type": "code",
   "execution_count": 5,
   "id": "2b8106e1",
   "metadata": {},
   "outputs": [
    {
     "name": "stderr",
     "output_type": "stream",
     "text": [
      "C:\\Anaconda3\\envs\\ML\\lib\\site-packages\\sklearn\\base.py:442: UserWarning: X does not have valid feature names, but LinearRegression was fitted with feature names\n",
      "  \"X does not have valid feature names, but\"\n"
     ]
    }
   ],
   "source": [
    "# save model to the variable called result\n",
    "result=load_model.predict([[0]])"
   ]
  },
  {
   "cell_type": "code",
   "execution_count": 6,
   "id": "75592e40",
   "metadata": {},
   "outputs": [
    {
     "data": {
      "text/plain": [
       "array([[26777.3913412]])"
      ]
     },
     "execution_count": 6,
     "metadata": {},
     "output_type": "execute_result"
    }
   ],
   "source": [
    "# view the result\n",
    "result"
   ]
  },
  {
   "cell_type": "code",
   "execution_count": null,
   "id": "a44f6920",
   "metadata": {},
   "outputs": [],
   "source": []
  }
 ],
 "metadata": {
  "kernelspec": {
   "display_name": "Python 3 (ipykernel)",
   "language": "python",
   "name": "python3"
  },
  "language_info": {
   "codemirror_mode": {
    "name": "ipython",
    "version": 3
   },
   "file_extension": ".py",
   "mimetype": "text/x-python",
   "name": "python",
   "nbconvert_exporter": "python",
   "pygments_lexer": "ipython3",
   "version": "3.12.7"
  }
 },
 "nbformat": 4,
 "nbformat_minor": 5
}
